{
 "cells": [
  {
   "cell_type": "code",
   "execution_count": null,
   "id": "287f2f89-cb75-40ec-9dc3-d71b71d98a02",
   "metadata": {},
   "outputs": [],
   "source": [
    "For loop : Use a for loop to iterate over an array, Use a for loop when you know the loop should execute n times"
   ]
  },
  {
   "cell_type": "code",
   "execution_count": null,
   "id": "678084ec-6a80-44ec-a433-dd32612796ac",
   "metadata": {},
   "outputs": [],
   "source": [
    "While loop : Use a while loop for reading a file into a variable. Use a while loop when asking for user input."
   ]
  },
  {
   "cell_type": "code",
   "execution_count": 5,
   "id": "32f812e2-7826-463b-ba18-7d9192b28555",
   "metadata": {},
   "outputs": [],
   "source": [
    "pwskill =\"python\"\n"
   ]
  },
  {
   "cell_type": "code",
   "execution_count": 7,
   "id": "3524a162-4eec-4299-bf19-f6c99709ea94",
   "metadata": {},
   "outputs": [
    {
     "name": "stdout",
     "output_type": "stream",
     "text": [
      "p\n",
      "y\n",
      "t\n",
      "h\n",
      "o\n",
      "n\n"
     ]
    }
   ],
   "source": [
    "for i in pwskill:\n",
    "    print(i)\n"
   ]
  },
  {
   "cell_type": "code",
   "execution_count": 10,
   "id": "9b949520-af7e-493f-9e14-a9bbcdfe2a66",
   "metadata": {},
   "outputs": [
    {
     "name": "stdout",
     "output_type": "stream",
     "text": [
      "25\n",
      "26\n",
      "27\n",
      "28\n",
      "29\n",
      "30\n",
      "31\n",
      "32\n",
      "33\n",
      "34\n",
      "35\n",
      "36\n",
      "37\n",
      "38\n",
      "39\n",
      "40\n",
      "41\n",
      "42\n",
      "43\n",
      "44\n",
      "45\n",
      "46\n",
      "47\n",
      "48\n",
      "49\n"
     ]
    }
   ],
   "source": [
    "i = 25\n",
    "while i < 50:\n",
    "    print(i)\n",
    "    i+=1"
   ]
  },
  {
   "cell_type": "code",
   "execution_count": null,
   "id": "b39e9ccc-54b3-4319-a962-1b456cdda6e2",
   "metadata": {},
   "outputs": [],
   "source": [
    "Write a python program to print the sum and product of the first 10 natural numbers using for\n",
    "and while loop."
   ]
  },
  {
   "cell_type": "code",
   "execution_count": 24,
   "id": "e957e389-d477-4f21-986b-26e464e7c11a",
   "metadata": {},
   "outputs": [
    {
     "name": "stdout",
     "output_type": "stream",
     "text": [
      "sum of first 10 natural number: 55\n",
      "sum of first 10 natural number: 3628800\n"
     ]
    }
   ],
   "source": [
    "sum = 0\n",
    "product =1\n",
    "for i in range(1,11):\n",
    "    sum +=i\n",
    "    product*=i\n",
    "print(\"sum of first 10 natural number:\",sum)\n",
    "print(\"sum of first 10 natural number:\", product)\n"
   ]
  },
  {
   "cell_type": "code",
   "execution_count": null,
   "id": "c9f3b8e5-a5cd-489c-b512-be45fdb018a0",
   "metadata": {},
   "outputs": [],
   "source": [
    "follows: For the first 100 units, the user will be charged Rs. 4.5 per\n",
    "unit, for the next 100 units, the user will be charged Rs. 6 per unit, and for the next 100 units, the user will\n",
    "be charged Rs. 10 per unit, After 300 units and above the user will be charged Rs. 20 per unit."
   ]
  },
  {
   "cell_type": "code",
   "execution_count": 33,
   "id": "bc735032-5986-48ca-ae1a-7b9ab9a1b719",
   "metadata": {},
   "outputs": [
    {
     "name": "stdin",
     "output_type": "stream",
     "text": [
      "enter the unit number 310\n"
     ]
    },
    {
     "name": "stdout",
     "output_type": "stream",
     "text": [
      "Electricity Bill Amt is 2250.0\n"
     ]
    }
   ],
   "source": [
    "unit = int(input(\"enter the unit number\"))\n",
    "\n",
    "if unit <= 100:\n",
    "    charge = unit*4.5\n",
    "elif unit <= 200:\n",
    "        charge = 100 * 4.5+ (unit-100) * 6\n",
    "elif unit <= 300:\n",
    "    charge = 100 * 4.5 + 100 * 6 +(unit-200) * 10\n",
    "else:\n",
    "    charge = 100 *4.5 + 100 * 6 + 100 * 10 + (unit -300)* 20\n",
    "    \n",
    "print(f'Electricity Bill Amt is {charge}')"
   ]
  },
  {
   "cell_type": "code",
   "execution_count": null,
   "id": "36ca0df2-b195-4e10-a9d7-d4d1d403589d",
   "metadata": {},
   "outputs": [],
   "source": [
    "Create a list of numbers from 1 to 100. Use for loop and while loop to calculate the cube of each\n",
    "number and if the cube of that number is divisible by 4 or 5 then append that number in a list and print\n",
    "that list."
   ]
  },
  {
   "cell_type": "code",
   "execution_count": 66,
   "id": "22398534-b5ad-4a7f-856b-dc4117906f61",
   "metadata": {},
   "outputs": [
    {
     "name": "stdout",
     "output_type": "stream",
     "text": [
      "[2, 4, 5, 6, 8, 10, 12, 14, 15, 16, 18, 20, 22, 24, 25, 26, 28, 30, 32, 34, 35, 36, 38, 40, 42, 44, 45, 46, 48, 50, 52, 54, 55, 56, 58, 60, 62, 64, 65, 66, 68, 70, 72, 74, 75, 76, 78, 80, 82, 84, 85, 86, 88, 90, 92, 94, 95, 96, 98, 100]\n"
     ]
    }
   ],
   "source": [
    "result = []\n",
    "for i in range(1,101):\n",
    "    cube = i ** 3\n",
    "    if cube %4 == 0 or cube %5 == 0:\n",
    "        result.append(i)\n",
    "print(result)"
   ]
  },
  {
   "cell_type": "code",
   "execution_count": 84,
   "id": "7f70d2a0-3886-411f-bc01-10ab50cb4e2a",
   "metadata": {},
   "outputs": [
    {
     "name": "stdout",
     "output_type": "stream",
     "text": [
      "[2, 4, 5, 6, 8, 10, 12, 14, 15, 16, 18, 20, 22, 24, 25, 26, 28, 30, 32, 34, 35, 36, 38, 40, 42, 44, 45, 46, 48, 50, 52, 54, 55, 56, 58, 60, 62, 64, 65, 66, 68, 70, 72, 74, 75, 76, 78, 80, 82, 84, 85, 86, 88, 90, 92, 94, 95, 96, 98, 100]\n"
     ]
    }
   ],
   "source": [
    "result = []\n",
    "i = 1\n",
    "while i <= 100:\n",
    "    cube = i ** 3\n",
    "    if cube % 4 == 0 or cube % 5 == 0:\n",
    "        result.append(i)\n",
    "    i += 1\n",
    "print(result)"
   ]
  },
  {
   "cell_type": "code",
   "execution_count": null,
   "id": "27b1cfc4-7e23-40ee-9457-9995d1d96780",
   "metadata": {},
   "outputs": [],
   "source": [
    "Write a program to filter count vowels in the below-given string.\n",
    "string = \"I want to become a data scientist\""
   ]
  },
  {
   "cell_type": "code",
   "execution_count": 9,
   "id": "0eee1db9-77f9-49ab-98bf-2fb872fc51c8",
   "metadata": {},
   "outputs": [
    {
     "name": "stdout",
     "output_type": "stream",
     "text": [
      "Total count of vowel 12\n"
     ]
    }
   ],
   "source": [
    "s = \"I want to become a data scientist\"\n",
    "\n",
    "vowels = (\"aeiouAEIOU\")\n",
    "\n",
    "count = 0\n",
    "\n",
    "for i in s:\n",
    "    if i in vowels:\n",
    "        count += 1\n",
    "print(\"Total count of vowel\", count)"
   ]
  },
  {
   "cell_type": "code",
   "execution_count": null,
   "id": "98f9332d-6b87-441f-869d-c5d30e6a58c9",
   "metadata": {},
   "outputs": [],
   "source": []
  }
 ],
 "metadata": {
  "kernelspec": {
   "display_name": "Python 3 (ipykernel)",
   "language": "python",
   "name": "python3"
  },
  "language_info": {
   "codemirror_mode": {
    "name": "ipython",
    "version": 3
   },
   "file_extension": ".py",
   "mimetype": "text/x-python",
   "name": "python",
   "nbconvert_exporter": "python",
   "pygments_lexer": "ipython3",
   "version": "3.10.8"
  }
 },
 "nbformat": 4,
 "nbformat_minor": 5
}
