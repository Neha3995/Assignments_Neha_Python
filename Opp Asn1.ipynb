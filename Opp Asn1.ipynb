{
 "cells": [
  {
   "cell_type": "markdown",
   "id": "111397cc-0eb2-4869-b916-b2bb9f8c13fd",
   "metadata": {},
   "source": [
    "Q1. Explain Class and Object with respect to Object-Oriented Programming. Give a suitable example."
   ]
  },
  {
   "cell_type": "markdown",
   "id": "ed50ba80-6206-47c7-a868-afd2538071bc",
   "metadata": {},
   "source": [
    "A class is a blueprint or an object constructor for creating objects. "
   ]
  },
  {
   "cell_type": "markdown",
   "id": "6778d002-fea9-41a2-ab35-e3aaed204ecf",
   "metadata": {},
   "source": [
    "An object is a variable or instance of a class. Singer is a class then we can create object like (Lata Mangeskar), (Kishor Kumar)"
   ]
  },
  {
   "cell_type": "code",
   "execution_count": 11,
   "id": "863262cf-ebe8-4b40-8e25-82c9f09be752",
   "metadata": {},
   "outputs": [],
   "source": [
    "class singer :\n",
    "    def singer_name(self):\n",
    "        print(\"He/She is an amazing singer\")"
   ]
  },
  {
   "cell_type": "code",
   "execution_count": 13,
   "id": "e08542e9-b0f4-41d0-802d-99d295d7d8b0",
   "metadata": {},
   "outputs": [],
   "source": [
    "Lata_Mangeskar = singer()"
   ]
  },
  {
   "cell_type": "code",
   "execution_count": 15,
   "id": "f31ed1de-df78-4c49-add8-18957fb26153",
   "metadata": {},
   "outputs": [
    {
     "name": "stdout",
     "output_type": "stream",
     "text": [
      "He/She is an amazing singer\n"
     ]
    }
   ],
   "source": [
    "Lata_Mangeskar.singer_name()"
   ]
  },
  {
   "cell_type": "markdown",
   "id": "042eea6c-2762-4ba4-aa99-d78e6d3e20bf",
   "metadata": {},
   "source": [
    "Q2. Name the four pillars of OOPs."
   ]
  },
  {
   "cell_type": "markdown",
   "id": "959d2ef0-a0a1-46c9-9004-af20af85a25a",
   "metadata": {},
   "source": [
    "1. Encapsulation\n",
    "2. Abstraction\n",
    "3. Inheritance\n",
    "4. Polymorphism"
   ]
  },
  {
   "cell_type": "markdown",
   "id": "d5da350d-c145-47ff-9f30-98ece3cfcd7d",
   "metadata": {},
   "source": [
    "Q3. Explain why the __init__() function is used. Give a suitable example."
   ]
  },
  {
   "cell_type": "markdown",
   "id": "794de1aa-fa6b-42ea-824d-4286923793cd",
   "metadata": {},
   "source": [
    "Use the __init__() function to assign values to object properties, or other operations that are necessary to do when the object is being created"
   ]
  },
  {
   "cell_type": "code",
   "execution_count": 37,
   "id": "9d166933-9e82-4d67-9ff6-6e5f52ddbb3d",
   "metadata": {},
   "outputs": [],
   "source": [
    "class Employee :\n",
    "    def __init__(self, Salary, Department, Role):\n",
    "        self.Salary = Salary\n",
    "        self.Department = Department\n",
    "        self.Role = Role\n",
    "        \n",
    "    def Employee_details(self):\n",
    "        return self.Department, self.Salary, self.Role"
   ]
  },
  {
   "cell_type": "code",
   "execution_count": 39,
   "id": "8251819a-7090-438c-ae97-303580476239",
   "metadata": {},
   "outputs": [],
   "source": [
    "Neha = Employee(25000, \"Finance\", \"Inspector\")"
   ]
  },
  {
   "cell_type": "code",
   "execution_count": 40,
   "id": "661b31c8-116f-4480-8834-87a1891bc3f2",
   "metadata": {},
   "outputs": [
    {
     "data": {
      "text/plain": [
       "25000"
      ]
     },
     "execution_count": 40,
     "metadata": {},
     "output_type": "execute_result"
    }
   ],
   "source": [
    "Neha.Salary"
   ]
  },
  {
   "cell_type": "code",
   "execution_count": 41,
   "id": "1f32c186-5dab-4e7b-9900-2fd41911ccff",
   "metadata": {},
   "outputs": [
    {
     "data": {
      "text/plain": [
       "'Inspector'"
      ]
     },
     "execution_count": 41,
     "metadata": {},
     "output_type": "execute_result"
    }
   ],
   "source": [
    "Neha.Role"
   ]
  },
  {
   "cell_type": "code",
   "execution_count": 42,
   "id": "eb83602b-7782-40d7-a73c-31562b162002",
   "metadata": {},
   "outputs": [
    {
     "data": {
      "text/plain": [
       "('Finance', 25000, 'Inspector')"
      ]
     },
     "execution_count": 42,
     "metadata": {},
     "output_type": "execute_result"
    }
   ],
   "source": [
    "Neha.Employee_details()"
   ]
  },
  {
   "cell_type": "markdown",
   "id": "0ec32b10-7b5f-4c08-b46b-ea5241854057",
   "metadata": {},
   "source": [
    "Why self is used in OOPs?"
   ]
  },
  {
   "cell_type": "markdown",
   "id": "23018097-d788-46ed-b99a-f45d75695276",
   "metadata": {},
   "source": [
    "The self variable used to represent the object(instance) of the class. It works as an reference to the object."
   ]
  },
  {
   "cell_type": "markdown",
   "id": "2f88c4f8-e9ec-42b2-b8e5-9df50a7dcf1e",
   "metadata": {},
   "source": [
    "Q5. What is inheritance? Give an example for each type of inheritance."
   ]
  },
  {
   "cell_type": "markdown",
   "id": "cf8db1c7-24c6-4b1a-a25d-cb7768fa4864",
   "metadata": {},
   "source": [
    "Inheritance is one of the fundamental concepts in Object-Oriented Programming (OOP) that allows a new class (derived class) to be based on an existing class (base class). Inheritance enables the derived class to inherit the properties and methods of the base class, thereby promoting code reuse and minimizing code redundancy."
   ]
  },
  {
   "cell_type": "code",
   "execution_count": null,
   "id": "6a61613e-28a2-4fd3-a504-1cd12044e923",
   "metadata": {},
   "outputs": [],
   "source": [
    "class Animal:\n",
    "    def __init__(self, name):\n",
    "        self.name = name\n",
    "    \n",
    "    def speak(self):\n",
    "        pass\n",
    "\n",
    "class Dog(Animal):\n",
    "    def speak(self):\n",
    "        return \"Woof!\"\n",
    "\n",
    "d = Dog(\"Buddy\")\n",
    "print(d.name)\n",
    "print(d.speak())"
   ]
  },
  {
   "cell_type": "code",
   "execution_count": null,
   "id": "a020541a-71e7-43a7-ac58-0ec5cb8df2d6",
   "metadata": {},
   "outputs": [],
   "source": []
  }
 ],
 "metadata": {
  "kernelspec": {
   "display_name": "Python 3 (ipykernel)",
   "language": "python",
   "name": "python3"
  },
  "language_info": {
   "codemirror_mode": {
    "name": "ipython",
    "version": 3
   },
   "file_extension": ".py",
   "mimetype": "text/x-python",
   "name": "python",
   "nbconvert_exporter": "python",
   "pygments_lexer": "ipython3",
   "version": "3.10.8"
  }
 },
 "nbformat": 4,
 "nbformat_minor": 5
}
